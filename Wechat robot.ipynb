{
 "cells": [
  {
   "cell_type": "code",
   "execution_count": 3,
   "metadata": {},
   "outputs": [],
   "source": [
    "from wxpy import *\n",
    "import json\n",
    "import requests\n",
    "# 初始化一个机器人对象\n",
    "bot = Bot(cache_path=True)\n",
    "\n",
    "\n",
    "# 调用图灵机器人API\n",
    "\n",
    "api_key='da8b40f9192e4a16b74abf63ca98fd7d'\n",
    "\n",
    "\n",
    "def get_response(msg):\n",
    "    api = 'http://openapi.tuling123.com/openapi/api/v2'\n",
    "    dat = {\n",
    "        \"perception\": {\n",
    "            \"inputText\": {\n",
    "                \"text\": msg\n",
    "            },\n",
    "            \"inputImage\": {\n",
    "                \"url\": \"imageUrl\"\n",
    "            },\n",
    "            \"selfInfo\": {\n",
    "                \"location\": {\n",
    "                    \"city\": \"北京\",\n",
    "                    \"province\": \"北京\",\n",
    "                    \"street\": \"信息路\"\n",
    "                }\n",
    "            }\n",
    "        },\n",
    "        \"userInfo\": {\n",
    "            \"apiKey\": api_key,\n",
    "            \"userId\": \"fool\"\n",
    "        }\n",
    "    }\n",
    "    dat = json.dumps(dat)\n",
    "    r = requests.post(api, data=dat).json()\n",
    " \n",
    "    mesage = r['results'][0]['values']['text']\n",
    "    return mesage\n",
    "\n",
    " \n",
    "my_friend = bot.friends().search(\"王皓\")[0]\n",
    "#boring_group1 = bot.groups().search('itchat')[0]\n",
    "\n",
    "@bot.register(my_friend)\n",
    "def forward_message(msg):\n",
    "    ret = get_response(msg.text)\n",
    "    print(ret)\n",
    "    return ret\n",
    " \n"
   ]
  },
  {
   "cell_type": "code",
   "execution_count": 4,
   "metadata": {},
   "outputs": [
    {
     "name": "stdout",
     "output_type": "stream",
     "text": [
      "我想和你认真聊天的。\n",
      "你好\n",
      "哈哈，我还是更喜欢你的声音呢。\n",
      "嘘，要低调。\n",
      "开神马机器。我可是纯手机党\n",
      "开神马机器。我可是纯手机党\n"
     ]
    }
   ],
   "source": [
    "ret = get_response(\"nihao \")\n",
    "print(ret)"
   ]
  }
 ],
 "metadata": {
  "kernelspec": {
   "display_name": "Python [default]",
   "language": "python",
   "name": "python3"
  },
  "language_info": {
   "codemirror_mode": {
    "name": "ipython",
    "version": 3
   },
   "file_extension": ".py",
   "mimetype": "text/x-python",
   "name": "python",
   "nbconvert_exporter": "python",
   "pygments_lexer": "ipython3",
   "version": "3.6.4"
  }
 },
 "nbformat": 4,
 "nbformat_minor": 2
}
